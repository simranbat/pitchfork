{
 "cells": [
  {
   "cell_type": "markdown",
   "metadata": {},
   "source": [
    "Preparation of Pitchfork data into OHCO format"
   ]
  },
  {
   "cell_type": "markdown",
   "metadata": {},
   "source": [
    "Simran Batra"
   ]
  },
  {
   "cell_type": "markdown",
   "metadata": {},
   "source": [
    "DS 5559"
   ]
  },
  {
   "cell_type": "markdown",
   "metadata": {},
   "source": [
    "# Configuration"
   ]
  },
  {
   "cell_type": "code",
   "execution_count": 1,
   "metadata": {},
   "outputs": [],
   "source": [
    "db_file = 'pitchfork.db'\n",
    "para_pat = r'\\n'\n",
    "token_pat = r'([\\W_]+)'"
   ]
  },
  {
   "cell_type": "markdown",
   "metadata": {},
   "source": [
    "## Libraries"
   ]
  },
  {
   "cell_type": "code",
   "execution_count": 2,
   "metadata": {},
   "outputs": [
    {
     "name": "stderr",
     "output_type": "stream",
     "text": [
      "[nltk_data] Downloading package punkt to\n",
      "[nltk_data]     C:\\Users\\Simran\\AppData\\Roaming\\nltk_data...\n",
      "[nltk_data]   Package punkt is already up-to-date!\n",
      "[nltk_data] Downloading package averaged_perceptron_tagger to\n",
      "[nltk_data]     C:\\Users\\Simran\\AppData\\Roaming\\nltk_data...\n",
      "[nltk_data]   Package averaged_perceptron_tagger is already up-to-\n",
      "[nltk_data]       date!\n",
      "[nltk_data] Downloading package stopwords to\n",
      "[nltk_data]     C:\\Users\\Simran\\AppData\\Roaming\\nltk_data...\n",
      "[nltk_data]   Package stopwords is already up-to-date!\n",
      "[nltk_data] Downloading package tagsets to\n",
      "[nltk_data]     C:\\Users\\Simran\\AppData\\Roaming\\nltk_data...\n",
      "[nltk_data]   Package tagsets is already up-to-date!\n",
      "[nltk_data] Downloading package wordnet to\n",
      "[nltk_data]     C:\\Users\\Simran\\AppData\\Roaming\\nltk_data...\n",
      "[nltk_data]   Package wordnet is already up-to-date!\n"
     ]
    },
    {
     "data": {
      "text/plain": [
       "True"
      ]
     },
     "execution_count": 2,
     "metadata": {},
     "output_type": "execute_result"
    }
   ],
   "source": [
    "import glob\n",
    "import sqlite3\n",
    "\n",
    "import pandas as pd\n",
    "import numpy as np\n",
    "\n",
    "import nltk\n",
    "from nltk.tokenize import RegexpTokenizer\n",
    "nltk.download('punkt')\n",
    "nltk.download('averaged_perceptron_tagger')\n",
    "nltk.download('stopwords')\n",
    "nltk.download('tagsets')\n",
    "nltk.download('wordnet')"
   ]
  },
  {
   "cell_type": "code",
   "execution_count": 3,
   "metadata": {},
   "outputs": [],
   "source": [
    "%matplotlib inline"
   ]
  },
  {
   "cell_type": "markdown",
   "metadata": {},
   "source": [
    "# Preparing Data"
   ]
  },
  {
   "cell_type": "markdown",
   "metadata": {},
   "source": [
    "## Loading the data"
   ]
  },
  {
   "cell_type": "code",
   "execution_count": 4,
   "metadata": {},
   "outputs": [],
   "source": [
    "pitchfork = pd.read_csv(\"pitchfork.csv\", encoding=\"ISO-8859-1\")\n",
    "pitchfork = pitchfork.iloc[:,1:]"
   ]
  },
  {
   "cell_type": "code",
   "execution_count": 5,
   "metadata": {},
   "outputs": [
    {
     "data": {
      "text/html": [
       "<div>\n",
       "<style scoped>\n",
       "    .dataframe tbody tr th:only-of-type {\n",
       "        vertical-align: middle;\n",
       "    }\n",
       "\n",
       "    .dataframe tbody tr th {\n",
       "        vertical-align: top;\n",
       "    }\n",
       "\n",
       "    .dataframe thead th {\n",
       "        text-align: right;\n",
       "    }\n",
       "</style>\n",
       "<table border=\"1\" class=\"dataframe\">\n",
       "  <thead>\n",
       "    <tr style=\"text-align: right;\">\n",
       "      <th></th>\n",
       "      <th>Title</th>\n",
       "      <th>Artist</th>\n",
       "      <th>Score</th>\n",
       "      <th>Author</th>\n",
       "      <th>Genre</th>\n",
       "      <th>Date</th>\n",
       "      <th>Text</th>\n",
       "    </tr>\n",
       "  </thead>\n",
       "  <tbody>\n",
       "    <tr>\n",
       "      <th>0</th>\n",
       "      <td>Girls</td>\n",
       "      <td>Yung Baby Tate</td>\n",
       "      <td>6.8</td>\n",
       "      <td>Michelle Kim</td>\n",
       "      <td>Rap</td>\n",
       "      <td>March 5 2019</td>\n",
       "      <td>As a little girl, roleplaying is an essential ...</td>\n",
       "    </tr>\n",
       "    <tr>\n",
       "      <th>1</th>\n",
       "      <td>Wasteland, Baby!</td>\n",
       "      <td>Hozier</td>\n",
       "      <td>4.8</td>\n",
       "      <td>Sam Sodomsky</td>\n",
       "      <td>Rock</td>\n",
       "      <td>March 6 2019</td>\n",
       "      <td>Like a desperate magician guessing card after ...</td>\n",
       "    </tr>\n",
       "    <tr>\n",
       "      <th>2</th>\n",
       "      <td>Rap or Go to the League</td>\n",
       "      <td>2 Chainz</td>\n",
       "      <td>7.6</td>\n",
       "      <td>Sheldon Pearce</td>\n",
       "      <td>Rap</td>\n",
       "      <td>March 6 2019</td>\n",
       "      <td>2 Chainz formed his rap group Playaz Circle in...</td>\n",
       "    </tr>\n",
       "    <tr>\n",
       "      <th>3</th>\n",
       "      <td>American Love Call</td>\n",
       "      <td>Durand Jones &amp; the Indications</td>\n",
       "      <td>6.6</td>\n",
       "      <td>Amanda Wicks</td>\n",
       "      <td>Pop/R&amp;B</td>\n",
       "      <td>March 5 2019</td>\n",
       "      <td>Soul is likely not the first word that comes t...</td>\n",
       "    </tr>\n",
       "    <tr>\n",
       "      <th>4</th>\n",
       "      <td>Good at Falling</td>\n",
       "      <td>The Japanese House</td>\n",
       "      <td>7.5</td>\n",
       "      <td>Megan Buerger</td>\n",
       "      <td>Pop/R&amp;B</td>\n",
       "      <td>March 4 2019</td>\n",
       "      <td>When Amber Bain began releasing music as the J...</td>\n",
       "    </tr>\n",
       "  </tbody>\n",
       "</table>\n",
       "</div>"
      ],
      "text/plain": [
       "                     Title                          Artist  Score  \\\n",
       "0                    Girls                  Yung Baby Tate    6.8   \n",
       "1         Wasteland, Baby!                          Hozier    4.8   \n",
       "2  Rap or Go to the League                        2 Chainz    7.6   \n",
       "3       American Love Call  Durand Jones & the Indications    6.6   \n",
       "4          Good at Falling              The Japanese House    7.5   \n",
       "\n",
       "           Author    Genre          Date  \\\n",
       "0    Michelle Kim      Rap  March 5 2019   \n",
       "1    Sam Sodomsky     Rock  March 6 2019   \n",
       "2  Sheldon Pearce      Rap  March 6 2019   \n",
       "3    Amanda Wicks  Pop/R&B  March 5 2019   \n",
       "4   Megan Buerger  Pop/R&B  March 4 2019   \n",
       "\n",
       "                                                Text  \n",
       "0  As a little girl, roleplaying is an essential ...  \n",
       "1  Like a desperate magician guessing card after ...  \n",
       "2  2 Chainz formed his rap group Playaz Circle in...  \n",
       "3  Soul is likely not the first word that comes t...  \n",
       "4  When Amber Bain began releasing music as the J...  "
      ]
     },
     "execution_count": 5,
     "metadata": {},
     "output_type": "execute_result"
    }
   ],
   "source": [
    "pitchfork.head()"
   ]
  },
  {
   "cell_type": "markdown",
   "metadata": {},
   "source": [
    "## Setting up OHCO index"
   ]
  },
  {
   "cell_type": "code",
   "execution_count": 6,
   "metadata": {},
   "outputs": [],
   "source": [
    "OHCO = ['Title', 'Artist', 'Score', 'Date','Genre', 'Author', 'para_num', 'sent_num', 'token_num']\n",
    "TITLE = OHCO[:1]\n",
    "ARTIST = OHCO[:2]\n",
    "SCORE = OHCO[:3]\n",
    "DATE = OHCO[:4]\n",
    "GENRE = OHCO[:5]\n",
    "AUTHOR = OHCO[:6]\n",
    "PARAS = OHCO[:7]\n",
    "SENTS = OHCO[:8]"
   ]
  },
  {
   "cell_type": "code",
   "execution_count": 7,
   "metadata": {},
   "outputs": [],
   "source": [
    "try:\n",
    "    pitchfork = pitchfork.set_index(AUTHOR)\n",
    "    pitchfork = pitchfork.sort_index()\n",
    "except KeyError:\n",
    "    pass"
   ]
  },
  {
   "cell_type": "code",
   "execution_count": 8,
   "metadata": {},
   "outputs": [
    {
     "data": {
      "text/html": [
       "<div>\n",
       "<style scoped>\n",
       "    .dataframe tbody tr th:only-of-type {\n",
       "        vertical-align: middle;\n",
       "    }\n",
       "\n",
       "    .dataframe tbody tr th {\n",
       "        vertical-align: top;\n",
       "    }\n",
       "\n",
       "    .dataframe thead th {\n",
       "        text-align: right;\n",
       "    }\n",
       "</style>\n",
       "<table border=\"1\" class=\"dataframe\">\n",
       "  <thead>\n",
       "    <tr style=\"text-align: right;\">\n",
       "      <th></th>\n",
       "      <th></th>\n",
       "      <th></th>\n",
       "      <th></th>\n",
       "      <th></th>\n",
       "      <th></th>\n",
       "      <th>Text</th>\n",
       "    </tr>\n",
       "    <tr>\n",
       "      <th>Title</th>\n",
       "      <th>Artist</th>\n",
       "      <th>Score</th>\n",
       "      <th>Date</th>\n",
       "      <th>Genre</th>\n",
       "      <th>Author</th>\n",
       "      <th></th>\n",
       "    </tr>\n",
       "  </thead>\n",
       "  <tbody>\n",
       "    <tr>\n",
       "      <th>\"Cassette\" EP</th>\n",
       "      <th>Viet Cong</th>\n",
       "      <th>7.8</th>\n",
       "      <th>July 7 2014</th>\n",
       "      <th>Rock</th>\n",
       "      <th>Nick Neyland</th>\n",
       "      <td>The Calgary-based band Women had the enviable ...</td>\n",
       "    </tr>\n",
       "    <tr>\n",
       "      <th>\"Evidence\" 12\"</th>\n",
       "      <th>Carlos Giffoni</th>\n",
       "      <th>7.6</th>\n",
       "      <th>February 13 2012</th>\n",
       "      <th>Experimental</th>\n",
       "      <th>Nick Neyland</th>\n",
       "      <td>In Bill Brewster and Frank Broughton's Last Ni...</td>\n",
       "    </tr>\n",
       "    <tr>\n",
       "      <th>\"What Is This Heart?\"</th>\n",
       "      <th>How to Dress Well</th>\n",
       "      <th>8.8</th>\n",
       "      <th>June 23 2014</th>\n",
       "      <th>Pop/R&amp;B</th>\n",
       "      <th>Ian Cohen</th>\n",
       "      <td>How to Dress Well is a project that Tom Krell ...</td>\n",
       "    </tr>\n",
       "    <tr>\n",
       "      <th>\"Witchhunt Suite for WWIII\"</th>\n",
       "      <th>Ariel Pink's Haunted Graffiti</th>\n",
       "      <th>7.8</th>\n",
       "      <th>September 23 2011</th>\n",
       "      <th>Experimental</th>\n",
       "      <th>Marc Masters</th>\n",
       "      <td>Since it first went public in the early 2000s,...</td>\n",
       "    </tr>\n",
       "    <tr>\n",
       "      <th>$</th>\n",
       "      <th>Mark Sultan</th>\n",
       "      <th>6.8</th>\n",
       "      <th>April 21 2010</th>\n",
       "      <th>Electronic</th>\n",
       "      <th>Stephen M. Deusner</th>\n",
       "      <td>Mark Sultan doesn't simply revive old sounds a...</td>\n",
       "    </tr>\n",
       "  </tbody>\n",
       "</table>\n",
       "</div>"
      ],
      "text/plain": [
       "                                                                                                                                                                Text\n",
       "Title                       Artist                        Score Date              Genre        Author                                                               \n",
       "\"Cassette\" EP               Viet Cong                     7.8   July 7 2014       Rock         Nick Neyland        The Calgary-based band Women had the enviable ...\n",
       "\"Evidence\" 12\"              Carlos Giffoni                7.6   February 13 2012  Experimental Nick Neyland        In Bill Brewster and Frank Broughton's Last Ni...\n",
       "\"What Is This Heart?\"       How to Dress Well             8.8   June 23 2014      Pop/R&B      Ian Cohen           How to Dress Well is a project that Tom Krell ...\n",
       "\"Witchhunt Suite for WWIII\" Ariel Pink's Haunted Graffiti 7.8   September 23 2011 Experimental Marc Masters        Since it first went public in the early 2000s,...\n",
       "$                           Mark Sultan                   6.8   April 21 2010     Electronic   Stephen M. Deusner  Mark Sultan doesn't simply revive old sounds a..."
      ]
     },
     "execution_count": 8,
     "metadata": {},
     "output_type": "execute_result"
    }
   ],
   "source": [
    "pitchfork.head()"
   ]
  },
  {
   "cell_type": "markdown",
   "metadata": {},
   "source": [
    "### Create stopwords list "
   ]
  },
  {
   "cell_type": "code",
   "execution_count": 9,
   "metadata": {},
   "outputs": [],
   "source": [
    "sw = nltk.corpus.stopwords.words('english')"
   ]
  },
  {
   "cell_type": "markdown",
   "metadata": {},
   "source": [
    "### Cleaning up text"
   ]
  },
  {
   "cell_type": "code",
   "execution_count": 10,
   "metadata": {},
   "outputs": [],
   "source": [
    "pitchfork.Text = pitchfork.Text.str.replace(r\"(—|-)\", ' \\g<1> ')"
   ]
  },
  {
   "cell_type": "markdown",
   "metadata": {},
   "source": [
    "## Getting paragraphs"
   ]
  },
  {
   "cell_type": "code",
   "execution_count": 11,
   "metadata": {},
   "outputs": [],
   "source": [
    "paras = pitchfork.Text.str.split(para_pat, expand=True)\\\n",
    "    .stack()\\\n",
    "    .to_frame()\\\n",
    "    .rename(columns={0:'para_str'})\n",
    "paras.index.names = PARAS\n",
    "paras.para_str = paras.para_str.str.strip()\n",
    "paras.para_str = paras.para_str.str.replace(r'\\n', ' ')\n",
    "paras.para_str = paras.para_str.str.replace(r'\\s+', ' ')\n",
    "paras = paras[~paras.para_str.str.match(r'^\\s*$')]"
   ]
  },
  {
   "cell_type": "code",
   "execution_count": 12,
   "metadata": {},
   "outputs": [
    {
     "data": {
      "text/html": [
       "<div>\n",
       "<style scoped>\n",
       "    .dataframe tbody tr th:only-of-type {\n",
       "        vertical-align: middle;\n",
       "    }\n",
       "\n",
       "    .dataframe tbody tr th {\n",
       "        vertical-align: top;\n",
       "    }\n",
       "\n",
       "    .dataframe thead th {\n",
       "        text-align: right;\n",
       "    }\n",
       "</style>\n",
       "<table border=\"1\" class=\"dataframe\">\n",
       "  <thead>\n",
       "    <tr style=\"text-align: right;\">\n",
       "      <th></th>\n",
       "      <th></th>\n",
       "      <th></th>\n",
       "      <th></th>\n",
       "      <th></th>\n",
       "      <th></th>\n",
       "      <th></th>\n",
       "      <th>para_str</th>\n",
       "    </tr>\n",
       "    <tr>\n",
       "      <th>Title</th>\n",
       "      <th>Artist</th>\n",
       "      <th>Score</th>\n",
       "      <th>Date</th>\n",
       "      <th>Genre</th>\n",
       "      <th>Author</th>\n",
       "      <th>para_num</th>\n",
       "      <th></th>\n",
       "    </tr>\n",
       "  </thead>\n",
       "  <tbody>\n",
       "    <tr>\n",
       "      <th rowspan=\"5\" valign=\"top\">\"Cassette\" EP</th>\n",
       "      <th rowspan=\"5\" valign=\"top\">Viet Cong</th>\n",
       "      <th rowspan=\"5\" valign=\"top\">7.8</th>\n",
       "      <th rowspan=\"5\" valign=\"top\">July 7 2014</th>\n",
       "      <th rowspan=\"5\" valign=\"top\">Rock</th>\n",
       "      <th rowspan=\"5\" valign=\"top\">Nick Neyland</th>\n",
       "      <th>0</th>\n",
       "      <td>The Calgary - based band Women had the enviabl...</td>\n",
       "    </tr>\n",
       "    <tr>\n",
       "      <th>1</th>\n",
       "      <td>Theres something welcoming and likeable about...</td>\n",
       "    </tr>\n",
       "    <tr>\n",
       "      <th>2</th>\n",
       "      <td>Viet Cong's songs are complex puzzles. Its li...</td>\n",
       "    </tr>\n",
       "    <tr>\n",
       "      <th>3</th>\n",
       "      <td>The cover of Bauhaus Dark Entries, which so...</td>\n",
       "    </tr>\n",
       "    <tr>\n",
       "      <th>4</th>\n",
       "      <td>What \"Cassette\" ultimately does is throw down ...</td>\n",
       "    </tr>\n",
       "  </tbody>\n",
       "</table>\n",
       "</div>"
      ],
      "text/plain": [
       "                                                                                                                para_str\n",
       "Title         Artist    Score Date        Genre Author       para_num                                                   \n",
       "\"Cassette\" EP Viet Cong 7.8   July 7 2014 Rock  Nick Neyland 0         The Calgary - based band Women had the enviabl...\n",
       "                                                             1         Theres something welcoming and likeable about...\n",
       "                                                             2         Viet Cong's songs are complex puzzles. Its li...\n",
       "                                                             3         The cover of Bauhaus Dark Entries, which so...\n",
       "                                                             4         What \"Cassette\" ultimately does is throw down ..."
      ]
     },
     "execution_count": 12,
     "metadata": {},
     "output_type": "execute_result"
    }
   ],
   "source": [
    "paras.head(5)"
   ]
  },
  {
   "cell_type": "markdown",
   "metadata": {},
   "source": [
    "## Getting sentences"
   ]
  },
  {
   "cell_type": "code",
   "execution_count": 13,
   "metadata": {},
   "outputs": [],
   "source": [
    "sents = paras.para_str\\\n",
    "    .apply(lambda x: pd.Series(nltk.sent_tokenize(x)))\\\n",
    "    .stack()\\\n",
    "    .to_frame()\\\n",
    "    .rename(columns={0:'sent_str'})\n",
    "sents.index.names = SENTS\n",
    "del(paras)"
   ]
  },
  {
   "cell_type": "code",
   "execution_count": 14,
   "metadata": {},
   "outputs": [
    {
     "data": {
      "text/html": [
       "<div>\n",
       "<style scoped>\n",
       "    .dataframe tbody tr th:only-of-type {\n",
       "        vertical-align: middle;\n",
       "    }\n",
       "\n",
       "    .dataframe tbody tr th {\n",
       "        vertical-align: top;\n",
       "    }\n",
       "\n",
       "    .dataframe thead th {\n",
       "        text-align: right;\n",
       "    }\n",
       "</style>\n",
       "<table border=\"1\" class=\"dataframe\">\n",
       "  <thead>\n",
       "    <tr style=\"text-align: right;\">\n",
       "      <th></th>\n",
       "      <th></th>\n",
       "      <th></th>\n",
       "      <th></th>\n",
       "      <th></th>\n",
       "      <th></th>\n",
       "      <th></th>\n",
       "      <th></th>\n",
       "      <th>sent_str</th>\n",
       "    </tr>\n",
       "    <tr>\n",
       "      <th>Title</th>\n",
       "      <th>Artist</th>\n",
       "      <th>Score</th>\n",
       "      <th>Date</th>\n",
       "      <th>Genre</th>\n",
       "      <th>Author</th>\n",
       "      <th>para_num</th>\n",
       "      <th>sent_num</th>\n",
       "      <th></th>\n",
       "    </tr>\n",
       "  </thead>\n",
       "  <tbody>\n",
       "    <tr>\n",
       "      <th rowspan=\"5\" valign=\"top\">\"Cassette\" EP</th>\n",
       "      <th rowspan=\"5\" valign=\"top\">Viet Cong</th>\n",
       "      <th rowspan=\"5\" valign=\"top\">7.8</th>\n",
       "      <th rowspan=\"5\" valign=\"top\">July 7 2014</th>\n",
       "      <th rowspan=\"5\" valign=\"top\">Rock</th>\n",
       "      <th rowspan=\"5\" valign=\"top\">Nick Neyland</th>\n",
       "      <th rowspan=\"5\" valign=\"top\">0</th>\n",
       "      <th>0</th>\n",
       "      <td>The Calgary - based band Women had the enviabl...</td>\n",
       "    </tr>\n",
       "    <tr>\n",
       "      <th>1</th>\n",
       "      <td>Both their albums, Women and Public Strain, ha...</td>\n",
       "    </tr>\n",
       "    <tr>\n",
       "      <th>2</th>\n",
       "      <td>Women ended in acrimony and tragedy, but two o...</td>\n",
       "    </tr>\n",
       "    <tr>\n",
       "      <th>3</th>\n",
       "      <td>\"Cassette\" is their scrappy introduction to th...</td>\n",
       "    </tr>\n",
       "    <tr>\n",
       "      <th>4</th>\n",
       "      <td>Now it's been buffed up and cleaned out, and w...</td>\n",
       "    </tr>\n",
       "  </tbody>\n",
       "</table>\n",
       "</div>"
      ],
      "text/plain": [
       "                                                                                                                         sent_str\n",
       "Title         Artist    Score Date        Genre Author       para_num sent_num                                                   \n",
       "\"Cassette\" EP Viet Cong 7.8   July 7 2014 Rock  Nick Neyland 0        0         The Calgary - based band Women had the enviabl...\n",
       "                                                                      1         Both their albums, Women and Public Strain, ha...\n",
       "                                                                      2         Women ended in acrimony and tragedy, but two o...\n",
       "                                                                      3         \"Cassette\" is their scrappy introduction to th...\n",
       "                                                                      4         Now it's been buffed up and cleaned out, and w..."
      ]
     },
     "execution_count": 14,
     "metadata": {},
     "output_type": "execute_result"
    }
   ],
   "source": [
    "sents.head()"
   ]
  },
  {
   "cell_type": "markdown",
   "metadata": {},
   "source": [
    "## Getting tokens"
   ]
  },
  {
   "cell_type": "code",
   "execution_count": 15,
   "metadata": {},
   "outputs": [],
   "source": [
    "tokenizer = RegexpTokenizer('\\s+', gaps=True)"
   ]
  },
  {
   "cell_type": "code",
   "execution_count": 16,
   "metadata": {},
   "outputs": [],
   "source": [
    "tokens = sents.sent_str\\\n",
    "    .apply(lambda x: pd.Series(nltk.pos_tag(tokenizer.tokenize(x))))\\\n",
    "    .stack()\\\n",
    "    .to_frame()\\\n",
    "    .rename(columns={0:'pos_tuple'})\n",
    "tokens.index.names = OHCO\n",
    "tokens['pos'] = tokens.pos_tuple.apply(lambda x: x[1])\n",
    "tokens['token_str'] = tokens.pos_tuple.apply(lambda x: x[0])\n",
    "tokens = tokens.drop('pos_tuple', 1)\n",
    "del(sents)"
   ]
  },
  {
   "cell_type": "code",
   "execution_count": 17,
   "metadata": {},
   "outputs": [],
   "source": [
    "tokens['punc'] = tokens.token_str.str.match(r'^[\\W_]*$').astype('int')\n",
    "tokens['num'] = tokens.token_str.str.match(r'^.*\\d.*$').astype('int')"
   ]
  },
  {
   "cell_type": "code",
   "execution_count": 18,
   "metadata": {},
   "outputs": [
    {
     "data": {
      "text/html": [
       "<div>\n",
       "<style scoped>\n",
       "    .dataframe tbody tr th:only-of-type {\n",
       "        vertical-align: middle;\n",
       "    }\n",
       "\n",
       "    .dataframe tbody tr th {\n",
       "        vertical-align: top;\n",
       "    }\n",
       "\n",
       "    .dataframe thead th {\n",
       "        text-align: right;\n",
       "    }\n",
       "</style>\n",
       "<table border=\"1\" class=\"dataframe\">\n",
       "  <thead>\n",
       "    <tr style=\"text-align: right;\">\n",
       "      <th></th>\n",
       "      <th></th>\n",
       "      <th></th>\n",
       "      <th></th>\n",
       "      <th></th>\n",
       "      <th></th>\n",
       "      <th></th>\n",
       "      <th></th>\n",
       "      <th></th>\n",
       "      <th>pos</th>\n",
       "      <th>token_str</th>\n",
       "      <th>punc</th>\n",
       "      <th>num</th>\n",
       "    </tr>\n",
       "    <tr>\n",
       "      <th>Title</th>\n",
       "      <th>Artist</th>\n",
       "      <th>Score</th>\n",
       "      <th>Date</th>\n",
       "      <th>Genre</th>\n",
       "      <th>Author</th>\n",
       "      <th>para_num</th>\n",
       "      <th>sent_num</th>\n",
       "      <th>token_num</th>\n",
       "      <th></th>\n",
       "      <th></th>\n",
       "      <th></th>\n",
       "      <th></th>\n",
       "    </tr>\n",
       "  </thead>\n",
       "  <tbody>\n",
       "    <tr>\n",
       "      <th rowspan=\"5\" valign=\"top\">\"Cassette\" EP</th>\n",
       "      <th rowspan=\"5\" valign=\"top\">Viet Cong</th>\n",
       "      <th rowspan=\"5\" valign=\"top\">7.8</th>\n",
       "      <th rowspan=\"5\" valign=\"top\">July 7 2014</th>\n",
       "      <th rowspan=\"5\" valign=\"top\">Rock</th>\n",
       "      <th rowspan=\"5\" valign=\"top\">Nick Neyland</th>\n",
       "      <th rowspan=\"5\" valign=\"top\">0</th>\n",
       "      <th rowspan=\"5\" valign=\"top\">0</th>\n",
       "      <th>0</th>\n",
       "      <td>DT</td>\n",
       "      <td>The</td>\n",
       "      <td>0</td>\n",
       "      <td>0</td>\n",
       "    </tr>\n",
       "    <tr>\n",
       "      <th>1</th>\n",
       "      <td>NNP</td>\n",
       "      <td>Calgary</td>\n",
       "      <td>0</td>\n",
       "      <td>0</td>\n",
       "    </tr>\n",
       "    <tr>\n",
       "      <th>2</th>\n",
       "      <td>:</td>\n",
       "      <td>-</td>\n",
       "      <td>1</td>\n",
       "      <td>0</td>\n",
       "    </tr>\n",
       "    <tr>\n",
       "      <th>3</th>\n",
       "      <td>VBN</td>\n",
       "      <td>based</td>\n",
       "      <td>0</td>\n",
       "      <td>0</td>\n",
       "    </tr>\n",
       "    <tr>\n",
       "      <th>4</th>\n",
       "      <td>NN</td>\n",
       "      <td>band</td>\n",
       "      <td>0</td>\n",
       "      <td>0</td>\n",
       "    </tr>\n",
       "  </tbody>\n",
       "</table>\n",
       "</div>"
      ],
      "text/plain": [
       "                                                                                          pos  \\\n",
       "Title         Artist    Score Date        Genre Author       para_num sent_num token_num        \n",
       "\"Cassette\" EP Viet Cong 7.8   July 7 2014 Rock  Nick Neyland 0        0        0           DT   \n",
       "                                                                               1          NNP   \n",
       "                                                                               2            :   \n",
       "                                                                               3          VBN   \n",
       "                                                                               4           NN   \n",
       "\n",
       "                                                                                         token_str  \\\n",
       "Title         Artist    Score Date        Genre Author       para_num sent_num token_num             \n",
       "\"Cassette\" EP Viet Cong 7.8   July 7 2014 Rock  Nick Neyland 0        0        0               The   \n",
       "                                                                               1           Calgary   \n",
       "                                                                               2                 -   \n",
       "                                                                               3             based   \n",
       "                                                                               4              band   \n",
       "\n",
       "                                                                                          punc  \\\n",
       "Title         Artist    Score Date        Genre Author       para_num sent_num token_num         \n",
       "\"Cassette\" EP Viet Cong 7.8   July 7 2014 Rock  Nick Neyland 0        0        0             0   \n",
       "                                                                               1             0   \n",
       "                                                                               2             1   \n",
       "                                                                               3             0   \n",
       "                                                                               4             0   \n",
       "\n",
       "                                                                                          num  \n",
       "Title         Artist    Score Date        Genre Author       para_num sent_num token_num       \n",
       "\"Cassette\" EP Viet Cong 7.8   July 7 2014 Rock  Nick Neyland 0        0        0            0  \n",
       "                                                                               1            0  \n",
       "                                                                               2            0  \n",
       "                                                                               3            0  \n",
       "                                                                               4            0  "
      ]
     },
     "execution_count": 18,
     "metadata": {},
     "output_type": "execute_result"
    }
   ],
   "source": [
    "tokens.head()"
   ]
  },
  {
   "cell_type": "markdown",
   "metadata": {},
   "source": [
    "## Vocab configuration"
   ]
  },
  {
   "cell_type": "markdown",
   "metadata": {},
   "source": [
    "### Tag punctuation and numbers and extract vocab with minimal normalization"
   ]
  },
  {
   "cell_type": "code",
   "execution_count": 19,
   "metadata": {},
   "outputs": [
    {
     "name": "stderr",
     "output_type": "stream",
     "text": [
      "C:\\Users\\Simran\\Anaconda3\\lib\\site-packages\\IPython\\core\\interactiveshell.py:2848: PerformanceWarning: indexing past lexsort depth may impact performance.\n",
      "  raw_cell, store_history, silent, shell_futures)\n"
     ]
    }
   ],
   "source": [
    "WORDS = (tokens.punc == 0) & (tokens.num == 0)\n",
    "tokens.loc[WORDS, 'term_str'] = tokens.token_str.str.lower()\\\n",
    "    .str.replace(token_pat, '')\n",
    "#     .str.replace(r'[\"_*.\\']', '')\n",
    "vocab = tokens[tokens.punc == 0].term_str.value_counts().to_frame()\\\n",
    "    .reset_index()\\\n",
    "    .rename(columns={'index':'term_str', 'term_str':'n'})\n",
    "vocab = vocab.sort_values('term_str').reset_index(drop=True)\n",
    "vocab.index.name = 'term_id'"
   ]
  },
  {
   "cell_type": "markdown",
   "metadata": {},
   "source": [
    "### Get priors for Vocab"
   ]
  },
  {
   "cell_type": "code",
   "execution_count": 20,
   "metadata": {},
   "outputs": [],
   "source": [
    "vocab['p'] = vocab.n / vocab.n.sum()"
   ]
  },
  {
   "cell_type": "markdown",
   "metadata": {},
   "source": [
    "### Add stems"
   ]
  },
  {
   "cell_type": "code",
   "execution_count": 21,
   "metadata": {},
   "outputs": [],
   "source": [
    "stemmer = nltk.stem.porter.PorterStemmer()\n",
    "vocab['port_stem'] = vocab.term_str.apply(lambda x: stemmer.stem(x))"
   ]
  },
  {
   "cell_type": "markdown",
   "metadata": {},
   "source": [
    "### Define stopwords"
   ]
  },
  {
   "cell_type": "code",
   "execution_count": 22,
   "metadata": {},
   "outputs": [],
   "source": [
    "stopwords = set(nltk.corpus.stopwords.words('english'))"
   ]
  },
  {
   "cell_type": "code",
   "execution_count": 23,
   "metadata": {},
   "outputs": [],
   "source": [
    "sw = pd.DataFrame({'x':1}, index=stopwords)\n",
    "vocab['stop'] = vocab.term_str.map(sw.x).fillna(0).astype('int')\n",
    "del(sw)"
   ]
  },
  {
   "cell_type": "markdown",
   "metadata": {},
   "source": [
    "### Add term_ids to Tokens"
   ]
  },
  {
   "cell_type": "code",
   "execution_count": 24,
   "metadata": {},
   "outputs": [],
   "source": [
    "tokens['term_id'] = tokens['term_str'].map(vocab.reset_index()\\\n",
    "    .set_index('term_str').term_id).fillna(-1).astype('int')"
   ]
  },
  {
   "cell_type": "markdown",
   "metadata": {},
   "source": [
    "# Save as SQL file"
   ]
  },
  {
   "cell_type": "code",
   "execution_count": 25,
   "metadata": {},
   "outputs": [],
   "source": [
    "with sqlite3.connect(db_file) as db:\n",
    "    pitchfork.to_sql('doc', db, if_exists='replace', index=True)\n",
    "    tokens.to_sql('token', db, if_exists='replace', index=True)\n",
    "    vocab.to_sql('vocab', db, if_exists='replace', index=True)"
   ]
  }
 ],
 "metadata": {
  "kernelspec": {
   "display_name": "Python 3",
   "language": "python",
   "name": "python3"
  },
  "language_info": {
   "codemirror_mode": {
    "name": "ipython",
    "version": 3
   },
   "file_extension": ".py",
   "mimetype": "text/x-python",
   "name": "python",
   "nbconvert_exporter": "python",
   "pygments_lexer": "ipython3",
   "version": "3.7.3"
  },
  "toc": {
   "base_numbering": 1,
   "nav_menu": {},
   "number_sections": true,
   "sideBar": true,
   "skip_h1_title": false,
   "title_cell": "Table of Contents",
   "title_sidebar": "Contents",
   "toc_cell": false,
   "toc_position": {},
   "toc_section_display": true,
   "toc_window_display": true
  }
 },
 "nbformat": 4,
 "nbformat_minor": 2
}
